{
 "cells": [
  {
   "cell_type": "code",
   "execution_count": 14,
   "id": "cfe012b2-0b70-4a1f-8fd2-101cbb6dd099",
   "metadata": {},
   "outputs": [
    {
     "name": "stdout",
     "output_type": "stream",
     "text": [
      "mean:17.1\n",
      "median:17.5\n",
      "mode:12\n"
     ]
    }
   ],
   "source": [
    "import statistics\n",
    "data = [12,15,14,10,18,20,22,24,17,19]\n",
    "mean_value = statistics.mean(data)\n",
    "median_value = statistics.median(data)\n",
    "mode_value = statistics.mode(data)\n",
    "print(f\"mean:{mean_value}\")\n",
    "print(f\"median:{median_value}\")\n",
    "print(f\"mode:{mode_value}\")"
   ]
  },
  {
   "cell_type": "markdown",
   "id": "d403d379-5f06-4c3e-a304-4621134bf1d3",
   "metadata": {},
   "source": [
    "1. Measures of Central Tendency: \n",
    "● Given the dataset data = [12, 15, 14, 10, 18, 20, 22, 24, 17, 19], calculate the Mean, \n",
    "Median, and Mode using both Excel/Google Sheets/ Python."
   ]
  },
  {
   "cell_type": "markdown",
   "id": "00821951-b93b-4651-987d-30540f51063e",
   "metadata": {},
   "source": [
    "2. Percentiles and Quartiles: \n",
    "● Compute the 25th percentile (Q1), 50th percentile (Q2), and 75th percentile (Q3) \n",
    "for the dataset using both tools."
   ]
  },
  {
   "cell_type": "code",
   "execution_count": 15,
   "id": "174c0c85-8874-4479-b9a1-7773ccb33833",
   "metadata": {},
   "outputs": [
    {
     "name": "stdout",
     "output_type": "stream",
     "text": [
      "q1 (25th percentile): 14.25\n",
      "q2 (50th percentile): 17.5\n",
      "q3  (75th percentile): 19.75\n"
     ]
    }
   ],
   "source": [
    "import numpy as np\n",
    "data = np.array([12,15,14,10,18,20,22,24,17,19])\n",
    "q1 = np.percentile(data,25)\n",
    "q2 = np.percentile(data,50)\n",
    "q3 = np.percentile(data,75)\n",
    "print(f\"q1 (25th percentile): {q1}\")\n",
    "print(f\"q2 (50th percentile): {q2}\")\n",
    "print(f\"q3  (75th percentile): {q3}\")\n",
    "\n"
   ]
  },
  {
   "cell_type": "markdown",
   "id": "be3a9e8f-8558-4308-a54f-246329ff1d6f",
   "metadata": {},
   "source": [
    "3. Interquartile Range (IQR): \n",
    "● Find the IQR for the given dataset and explain its significance."
   ]
  },
  {
   "cell_type": "code",
   "execution_count": 16,
   "id": "3b9cf708-d738-4817-836d-b139b47a9115",
   "metadata": {},
   "outputs": [
    {
     "name": "stdout",
     "output_type": "stream",
     "text": [
      "1qr: 5.0\n"
     ]
    }
   ],
   "source": [
    "import numpy as np\n",
    "data = np.array([12,15,14,10,18,20,22,17,19])\n",
    "q1 = np.percentile(data,25)\n",
    "q3 = np.percentile(data,75)\n",
    "iqr = q3-q1\n",
    "print(f\"1qr: {iqr}\")\n"
   ]
  },
  {
   "cell_type": "markdown",
   "id": "7ad4ed59-2a8f-4c37-a379-f0861f14ba20",
   "metadata": {},
   "source": [
    "4. Min and Max: \n",
    "● Identify the minimum and maximum values from the dataset."
   ]
  },
  {
   "cell_type": "code",
   "execution_count": 17,
   "id": "1b99e57e-22bb-473c-8067-c0e88b287d31",
   "metadata": {},
   "outputs": [
    {
     "name": "stdout",
     "output_type": "stream",
     "text": [
      "min: 10\n",
      "max: 22\n"
     ]
    }
   ],
   "source": [
    "import numpy as np\n",
    "data = np.array([12,15,14,10,18,20,22,17,19])\n",
    "min_value = np.min(data)\n",
    "max_value = np.max(data)\n",
    "print(f\"min: {min_value}\")\n",
    "print(f\"max: {max_value}\")"
   ]
  },
  {
   "cell_type": "markdown",
   "id": "f47b389b-ff34-4793-9d51-14e211cbb0eb",
   "metadata": {},
   "source": [
    "5. Finding Outliers Using Quartiles: \n",
    "● Compute the Lower Bound and Upper Bound. \n",
    "● Identify any outliers in the dataset."
   ]
  },
  {
   "cell_type": "code",
   "execution_count": 18,
   "id": "dc9ba227-9934-4913-b98f-0fac5e92ddc6",
   "metadata": {},
   "outputs": [
    {
     "name": "stdout",
     "output_type": "stream",
     "text": [
      "lower bound:6.5\n",
      "upper bound:11.5\n"
     ]
    }
   ],
   "source": [
    "import numpy as np\n",
    "data = np.array([12,15,14,10,18,20,22,17,19])\n",
    "q1 = np.percentile(data,25)\n",
    "q3 = np.percentile(data,75)\n",
    "iqr = q3-q1\n",
    "lower_bound = q1-(1.5*iqr)\n",
    "upper_bound = q3-(1.5*iqr)\n",
    "print(f\"lower bound:{lower_bound}\")\n",
    "print(f\"upper bound:{upper_bound}\")"
   ]
  },
  {
   "cell_type": "markdown",
   "id": "cd9b011d-82ef-42ac-85a6-5b673404896f",
   "metadata": {},
   "source": [
    "6. Measures of Dispersion: \n",
    "● Compute the Range, Variance, and Standard Deviation using both Excel/Google \n",
    "Sheets/Python."
   ]
  },
  {
   "cell_type": "code",
   "execution_count": 19,
   "id": "9ed44c98-e6f1-4541-b473-a3eab987d785",
   "metadata": {},
   "outputs": [
    {
     "name": "stdout",
     "output_type": "stream",
     "text": [
      "range: 12\n",
      "sample varience: 15.249999999999998\n",
      "population varience:13.555555555555554\n",
      "sample std deviation:3.905124837953327\n",
      "population std deviation:3.6817870057290865\n"
     ]
    }
   ],
   "source": [
    "import numpy as np\n",
    "data = np.array([12,15,14,10,18,20,22,17,19])\n",
    "\n",
    "range_value = np.max(data)- np.min(data)\n",
    "varience_sample = np.var(data, ddof = 1)\n",
    "varience_population = np.var(data)\n",
    "std_dev_sample = np.std(data,ddof = 1)\n",
    "std_dev_population = np.std(data)\n",
    "print(f\"range: {range_value}\")\n",
    "print(f\"sample varience: {varience_sample}\")\n",
    "print(f\"population varience:{varience_population}\")\n",
    "print(f\"sample std deviation:{std_dev_sample}\")\n",
    "print(f\"population std deviation:{std_dev_population}\")\n",
    "\n",
    "\n",
    "\n",
    "                        "
   ]
  },
  {
   "cell_type": "markdown",
   "id": "ce28273c-46a7-4b8d-b6f0-60bac005914a",
   "metadata": {},
   "source": [
    "7. Z-score Standardization: \n",
    "● Compute the Z-scores for each value in the dataset and explain its significance in \n",
    "data standardization. "
   ]
  },
  {
   "cell_type": "code",
   "execution_count": 20,
   "id": "4e2e3a3c-6dab-40d6-baa1-bbd346e71683",
   "metadata": {},
   "outputs": [
    {
     "name": "stdout",
     "output_type": "stream",
     "text": [
      "-1.31\n",
      "-0.54\n",
      "-0.79\n",
      "-1.82\n",
      "0.23\n",
      "0.74\n",
      "1.25\n",
      "-0.03\n",
      "0.49\n"
     ]
    }
   ],
   "source": [
    "for i in data:\n",
    "    z = ((i-mean_value)/std_dev_sample)\n",
    "    print(f\"{z:.2f}\")"
   ]
  },
  {
   "cell_type": "markdown",
   "id": "b2661b8d-3ebf-4fb6-aaa9-bf8848f577b4",
   "metadata": {},
   "source": [
    "8. Correlation Coefficient: \n",
    "● Given two datasets x = [10, 20, 30, 40, 50] and y = [5, 10, 15, 20, 25], compute the \n",
    "Pearson correlation coefficient."
   ]
  },
  {
   "cell_type": "code",
   "execution_count": 21,
   "id": "51b4e367-0f56-4187-a3aa-60e1830bcf39",
   "metadata": {},
   "outputs": [
    {
     "name": "stdout",
     "output_type": "stream",
     "text": [
      "correlation coefficient =  1.00\n"
     ]
    }
   ],
   "source": [
    "from scipy.stats import pearsonr\n",
    "x = [10,20,30,40,50]\n",
    "y = [5,10,15,20,25]\n",
    "correlation_coefficient,_ = pearsonr(x,y)\n",
    "print(f\"correlation coefficient = {correlation_coefficient : .2f}\")\n"
   ]
  },
  {
   "cell_type": "markdown",
   "id": "5c640b9f-5f05-4280-9f06-67e706db1452",
   "metadata": {},
   "source": [
    "9. Scatter Plot Visualization: \n",
    "● Create a scatter plot using both Excel/Python to visually inspect the correlation \n",
    "between x and y."
   ]
  },
  {
   "cell_type": "code",
   "execution_count": 23,
   "id": "dad25feb-9cad-4bb0-b2d8-f91037731ade",
   "metadata": {},
   "outputs": [
    {
     "data": {
      "image/png": "[encoded data removed]",
      "text/plain": [
       "<Figure size 640x480 with 1 Axes>"
      ]
     },
     "metadata": {},
     "output_type": "display_data"
    }
   ],
   "source": [
    "import matplotlib.pyplot as plt\n",
    "x = [10,20,30,40,50]\n",
    "y = [5,10,15,20,25]\n",
    "plt.scatter(x,y)\n",
    "plt.xlabel('x axis')\n",
    "plt.ylabel('y axis')\n",
    "plt.title('scatter plot of x vs. y')\n",
    "plt.show()"
   ]
  },
  {
   "cell_type": "markdown",
   "id": "7eb94846-2618-41e4-b420-bd35ffe5ac9e",
   "metadata": {},
   "source": [
    "10. Box Plot Visualization: \n",
    "● Create a box plot for the dataset to visualize Q1, Q2, Q3, lower bound, upper \n",
    "bound, and outliers."
   ]
  },
  {
   "cell_type": "code",
   "execution_count": 26,
   "id": "98a2c9c9-8655-46b7-8f12-465a94694b4c",
   "metadata": {},
   "outputs": [
    {
     "data": {
      "image/png": "[encoded data removed]",
      "text/plain": [
       "<Figure size 640x480 with 1 Axes>"
      ]
     },
     "metadata": {},
     "output_type": "display_data"
    }
   ],
   "source": [
    "plt.boxplot(data)\n",
    "plt.title(\"box plot\")\n",
    "plt.ylabel(\"values\") \n",
    "plt.grid(True)"
   ]
  },
  {
   "cell_type": "code",
   "execution_count": null,
   "id": "523a3bf9-cdad-408f-8115-1eb400f5d097",
   "metadata": {},
   "outputs": [],
   "source": [
    "11. Histogram Analysis: \n",
    "● Construct a histogram to show the frequency distribution of the dataset."
   ]
  },
  {
   "cell_type": "code",
   "execution_count": 28,
   "id": "722e833a-9e9a-4ba7-8827-1a09287ded26",
   "metadata": {},
   "outputs": [
    {
     "data": {
      "text/plain": [
       "Text(0.5, 1.0, 'Histogram of Data Distribution')"
      ]
     },
     "execution_count": 28,
     "metadata": {},
     "output_type": "execute_result"
    },
    {
     "data": {
      "image/png": "[encoded data removed]",
      "text/plain": [
       "<Figure size 640x480 with 1 Axes>"
      ]
     },
     "metadata": {},
     "output_type": "display_data"
    }
   ],
   "source": [
    "plt.hist(data,bins = 20,color = 'blue')\n",
    "\n",
    "\n",
    "plt.xlabel('Value')\n",
    "plt.ylabel('Frequency')\n",
    "plt.title('Histogram of Data Distribution')"
   ]
  },
  {
   "cell_type": "markdown",
   "id": "d8c6a355-62d3-40b0-8a45-21126375523f",
   "metadata": {},
   "source": [
    "12.c"
   ]
  },
  {
   "cell_type": "markdown",
   "id": "451a40b2-9446-426b-a794-4838fe59bb8c",
   "metadata": {},
   "source": [
    "Inferential Statistics: Correlation vs. Causation\n",
    "In the realm of inferential statistics, understanding the difference between correlation and causation is crucial. Let's break them down with definitions and an example:\n",
    "\n",
    "Correlation\n",
    "Definition: Correlation measures the strength and direction of a relationship between two variables. It tells us if two variables are associated but does not imply that one variable causes the other to change.\n",
    "\n",
    "Example: Suppose you observe that the number of ice creams sold and the number of sunburn cases increase simultaneously. There is a positive correlation between the two variables. However, eating ice cream does not cause sunburns. The lurking variable here is the hot weather, which leads to more ice cream sales and more sunburn cases.\n",
    "\n",
    "Causation\n",
    "Definition: Causation implies that changes in one variable directly cause changes in another. Establishing causation typically requires controlled experiments and ruling out other potential influencing factors.\n",
    "\n",
    "Example: If a study shows that a specific medication reduces blood pressure in patients, this demonstrates causation. The controlled experiment can attribute the reduction in blood pressure directly to the medication, rather than other factors."
   ]
  },
  {
   "cell_type": "markdown",
   "id": "ecd9b493-3f2e-49fe-8c1b-6eb7ea559b57",
   "metadata": {},
   "source": [
    "13. Population vs. Sample: \n",
    "● Why do we need sampling? Provide a real-world example."
   ]
  },
  {
   "cell_type": "markdown",
   "id": "ae9e2fd6-6305-4876-b723-0af144cb9a1d",
   "metadata": {},
   "source": [
    "Population vs. Sample: Why We Need Sampling\n",
    "Sampling is a fundamental concept in statistics that allows us to make inferences about a larger population without needing to gather data from every single member. Here’s why sampling is essential:\n",
    "\n",
    "Why Do We Need Sampling?\n",
    "Cost-Effective: Gathering data from an entire population can be expensive and resource-intensive. Sampling reduces costs significantly.\n",
    "\n",
    "Time-Saving: Collecting data from the entire population can be time-consuming. Sampling allows for quicker data collection and analysis.\n",
    "\n",
    "Feasibility: In many cases, it's simply not feasible to gather data from every member of a population. For example, conducting a survey of every citizen in a large country is impractical.\n",
    "\n",
    "Manageable Data: Smaller, manageable datasets can be easier to analyze and interpret without overwhelming computational resources.\n",
    "\n",
    "Real-World Example: Election Polling\n",
    "In the context of elections, pollsters use sampling to predict the outcome of an election. Here's how:\n",
    "\n",
    "Population: The entire electorate (all eligible voters).\n",
    "\n",
    "Sample: A smaller group of voters selected from the electorate.\n",
    "\n",
    "Steps:\n",
    "\n",
    "Select a Sample: Pollsters select a representative sample of voters. This sample should reflect the diversity of the electorate in terms of demographics, geography, etc.\n",
    "\n",
    "Conduct the Survey: Pollsters survey the selected sample to gather their voting preferences.\n",
    "\n",
    "Analyze the Data: The survey data is analyzed to predict the overall election results.\n",
    "\n",
    "Example: If there are 10 million eligible voters, it's impractical to survey all of them. Instead, pollsters might select a sample of 1,000 voters. By analyzing the preferences of these 1,000 voters, they can estimate the likely outcome for the entire population.\n",
    "\n",
    "This method allows for efficient and practical data collection, enabling us to make informed decisions and predictions without exhaustive efforts. If you have any specific questions or need further details, feel free to ask!\n",
    "\n"
   ]
  },
  {
   "cell_type": "markdown",
   "id": "e77f4bf6-3a70-4fdc-8968-4c74402e3f86",
   "metadata": {},
   "source": [
    "14. Hypothesis Testing Concepts: \n",
    "● Define Null Hypothesis, Alternate Hypothesis, Significance Level (α), and P-value."
   ]
  },
  {
   "cell_type": "markdown",
   "id": "b941441e-89e7-4853-9b28-2c35ef19fc6c",
   "metadata": {},
   "source": [
    "Hypothesis Testing Concepts\n",
    "1. Null Hypothesis (H₀)\n",
    "Definition: The null hypothesis is a statement asserting that there is no effect or no difference in the population, and any observed effect in the sample data is due to random chance.\n",
    "\n",
    "Example: In a clinical trial testing a new drug, the null hypothesis might state that the drug has no effect on patients compared to a placebo.\n",
    "\n",
    "2. Alternate Hypothesis (H₁ or Hₐ)\n",
    "Definition: The alternate hypothesis is a statement that contradicts the null hypothesis, asserting that there is a significant effect or difference in the population.\n",
    "\n",
    "Example: In the same clinical trial, the alternate hypothesis might state that the new drug has a significant effect on patients compared to a placebo.\n",
    "\n",
    "3. Significance Level (α)\n",
    "Definition: The significance level, denoted as α, is the threshold for determining whether to reject the null hypothesis. It represents the probability of rejecting the null hypothesis when it is actually true (Type I error).\n",
    "\n",
    "Common Values: α is typically set at 0.05 (5%) or 0.01 (1%).\n",
    "\n",
    "Example: If α is set at 0.05, there is a 5% chance of rejecting the null hypothesis when it is true.\n",
    "\n",
    "4. P-value\n",
    "Definition: The p-value is the probability of obtaining results at least as extreme as the observed results, assuming that the null hypothesis is true. It quantifies the strength of the evidence against the null hypothesis.\n",
    "\n",
    "Interpretation: A lower p-value indicates stronger evidence against the null hypothesis. If the p-value is less than the significance level α, we reject the null hypothesis.\n",
    "\n",
    "Example: If the p-value is 0.03 and α is 0.05, we reject the null hypothesis because 0.03 < 0.05, suggesting that the observed effect is statistically significant.\n",
    "\n",
    "These concepts form the foundation of hypothesis testing, enabling us to make informed decisions based on sample data. If you have any further questions or need more examples, feel free to ask!\n",
    "\n"
   ]
  },
  {
   "cell_type": "markdown",
   "id": "5723e905-e9c5-4e7c-8032-d213fd1d73bb",
   "metadata": {},
   "source": [
    "15. Z-test Calculation: \n",
    "● Given a sample mean of 25, population mean of 22, population standard deviation \n",
    "of 3, and sample size of 40, compute the Z-test statistic and interpret the results."
   ]
  },
  {
   "cell_type": "code",
   "execution_count": 30,
   "id": "94bc184f-1474-46b7-8b75-471b011af5b4",
   "metadata": {},
   "outputs": [
    {
     "name": "stdout",
     "output_type": "stream",
     "text": [
      "z-test value = 6.32\n"
     ]
    }
   ],
   "source": [
    "import math\n",
    "sample_mean = 25\n",
    "population_mean = 22 \n",
    "population_stdev = 3\n",
    "sample_size = 40\n",
    "z = ((sample_mean - population_mean)/(population_stdev/math.sqrt(40)))\n",
    "print(f\"z-test value = {z:.2f}\")\n"
   ]
  },
  {
   "cell_type": "markdown",
   "id": "898bbc0c-8d87-4c3a-87f3-678b81b94f38",
   "metadata": {},
   "source": [
    "16. P-value Computation for Z-test: \n",
    "● Using a standard normal table, find the p-value corresponding to the Z-test statistic \n",
    "computed in the previous question and determine whether to reject the null \n",
    "hypothesis at α = 0.05."
   ]
  },
  {
   "cell_type": "code",
   "execution_count": 33,
   "id": "0fc079fc-0944-4549-bde6-505688f8f788",
   "metadata": {},
   "outputs": [
    {
     "name": "stdout",
     "output_type": "stream",
     "text": [
      "pvalue = 2.539628507491898e-10\n"
     ]
    }
   ],
   "source": [
    "from scipy.stats import norm\n",
    "p_value = 2* (1-norm.cdf(abs(z)))\n",
    "print(f\"pvalue = {p_value:}\")"
   ]
  },
  {
   "cell_type": "markdown",
   "id": "31cfc578-a0e0-488f-bfa3-5150a8538274",
   "metadata": {},
   "source": [
    "17. One Sample T-test: \n",
    "● Given a sample of data = [45, 50, 55, 60, 62, 48, 52], test whether the mean is \n",
    "significantly different from 50 using a one-sample t-test."
   ]
  },
  {
   "cell_type": "code",
   "execution_count": 34,
   "id": "96df6542-8ecc-4213-b555-7059d2d229ad",
   "metadata": {},
   "outputs": [
    {
     "data": {
      "text/plain": [
       "(np.float64(53.142857142857146),\n",
       " np.float64(6.22972903178973),\n",
       " np.float64(1.3347640585603673),\n",
       " np.float64(0.23036820014089662))"
      ]
     },
     "execution_count": 34,
     "metadata": {},
     "output_type": "execute_result"
    }
   ],
   "source": [
    "import numpy as np\n",
    "from scipy import stats\n",
    "\n",
    "# Sample data\n",
    "data = [45, 50, 55, 60, 62, 48, 52]\n",
    "\n",
    "# Sample mean\n",
    "sample_mean = np.mean(data)\n",
    "\n",
    "# Sample standard deviation\n",
    "sample_std = np.std(data, ddof=1)  # Use ddof=1 for sample standard deviation\n",
    "\n",
    "# Sample size\n",
    "n = len(data)\n",
    "\n",
    "# Population mean\n",
    "population_mean = 50\n",
    "\n",
    "# Calculate the t-statistic\n",
    "t_statistic = (sample_mean - population_mean) / (sample_std / np.sqrt(n))\n",
    "\n",
    "# Calculate the p-value\n",
    "p_value = 2 * stats.t.sf(np.abs(t_statistic), df=n-1)\n",
    "\n",
    "sample_mean, sample_std, t_statistic, p_value"
   ]
  },
  {
   "cell_type": "code",
   "execution_count": null,
   "id": "de5b8d4a-bfd9-414f-b11c-ec566bc72bfe",
   "metadata": {},
   "outputs": [],
   "source": [
    "18. Independent Sample T-test: \n",
    "● Two groups of students took a math test. Their scores are: \n",
    "○ Group 1: [85, 90, 88, 92, 86] \n",
    "○ Group 2: [78, 75, 80, 83, 79] \n",
    "● Perform an independent sample t-test to determine if there is a significant \n",
    "difference between the means. "
   ]
  },
  {
   "cell_type": "code",
   "execution_count": 35,
   "id": "fbc652e7-d5dd-4b08-b8d5-35daab4415cf",
   "metadata": {},
   "outputs": [
    {
     "data": {
      "text/plain": [
       "(np.float64(5.034016027514163), np.float64(0.0010091081285779936))"
      ]
     },
     "execution_count": 35,
     "metadata": {},
     "output_type": "execute_result"
    }
   ],
   "source": [
    "import numpy as np\n",
    "from scipy import stats\n",
    "\n",
    "# Scores for both groups\n",
    "group1 = [85, 90, 88, 92, 86]\n",
    "group2 = [78, 75, 80, 83, 79]\n",
    "\n",
    "# Calculate the t-statistic and p-value\n",
    "t_statistic, p_value = stats.ttest_ind(group1, group2)\n",
    "\n",
    "t_statistic, p_value"
   ]
  },
  {
   "cell_type": "markdown",
   "id": "32bfc755-5386-4c0c-af57-490dbaa0dad0",
   "metadata": {},
   "source": [
    "19.19. Critical T-value Lookup: \n",
    "● Using a t-table, find the critical t-value for α = 0.05 with degrees of freedom \n",
    "appropriate for question 18 and interpret the results."
   ]
  },
  {
   "cell_type": "code",
   "execution_count": 39,
   "id": "2990153d-e14f-4f98-8fd0-dcd475e589fa",
   "metadata": {},
   "outputs": [
    {
     "name": "stdout",
     "output_type": "stream",
     "text": [
      "Degrees of Freedom: 8\n",
      "Critical t-value for α = 0.05: 2.306\n"
     ]
    }
   ],
   "source": [
    "import scipy.stats as stats\n",
    "\n",
    "# Sample sizes\n",
    "n1 =[85,90,88,92,86]\n",
    "n2 =[78,75,80,83,79 ]\n",
    "\n",
    "# Degrees of freedom\n",
    "df = len(n1) + len(n2) - 2\n",
    "\n",
    "# Significance level\n",
    "alpha = 0.05\n",
    "\n",
    "# Find the critical t-value for a two-tailed test\n",
    "critical_t_value = stats.t.ppf(1 - alpha / 2, df)\n",
    "\n",
    "# Display the results\n",
    "print(f\"Degrees of Freedom: {df}\")\n",
    "print(f\"Critical t-value for α = {alpha}: {critical_t_value:.3f}\")"
   ]
  },
  {
   "cell_type": "markdown",
   "id": "a0638ebe-c4c4-4995-a655-dbc8ead4adc9",
   "metadata": {},
   "source": [
    "20. Summary and Insights: \n",
    "● Summarize the key takeaways from the analysis performed above and describe \n",
    "how descriptive and inferential statistics can be used in real-world data analysis."
   ]
  },
  {
   "cell_type": "markdown",
   "id": "b482122b-1dcd-4a08-8321-96ce0e30d78a",
   "metadata": {},
   "source": [
    "We visualised the distribution of a dataset using a boxplot,highlighting the quartiles(q1,q2,q3),lower and upper bounds.\n",
    "scatter plotter was created to inspect the correlation between two variables.\n",
    "histogram analysis was done,hypothesis testing etc."
   ]
  }
 ],
 "metadata": {
  "kernelspec": {
   "display_name": "Python 3 (ipykernel)",
   "language": "python",
   "name": "python3"
  },
  "language_info": {
   "codemirror_mode": {
    "name": "ipython",
    "version": 3
   },
   "file_extension": ".py",
   "mimetype": "text/x-python",
   "name": "python",
   "nbconvert_exporter": "python",
   "pygments_lexer": "ipython3",
   "version": "3.13.2"
  }
 },
 "nbformat": 4,
 "nbformat_minor": 5
}
